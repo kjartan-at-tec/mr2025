{
 "cells": [
  {
   "cell_type": "markdown",
   "id": "96085fa8",
   "metadata": {},
   "source": [
    "# Mobile robot - unicycle model"
   ]
  },
  {
   "cell_type": "code",
   "execution_count": 1,
   "id": "8e1ee095",
   "metadata": {},
   "outputs": [],
   "source": [
    "import numpy as np\n",
    "import sympy as sy\n",
    "sy.init_printing()"
   ]
  },
  {
   "cell_type": "code",
   "execution_count": 19,
   "id": "6222b6bc",
   "metadata": {},
   "outputs": [
    {
     "data": {
      "image/png": "[encoded data removed]",
      "text/latex": [
       "$\\displaystyle z_{\\theta}$"
      ],
      "text/plain": [
       "zₜₕₑₜₐ"
      ]
     },
     "execution_count": 19,
     "metadata": {},
     "output_type": "execute_result"
    }
   ],
   "source": [
    "s = sy.symbols('s', real=False)\n",
    "x, y, theta = sy.symbols('x, y, theta')\n",
    "x0, y0, theta0 = sy.symbols('x0, y0, theta0')\n",
    "omega, v = sy.symbols('omega, v')\n",
    "omega0, v0 = sy.symbols('omega_0, v_0')\n",
    "zx, zy, ztheta = sy.symbols('z_x, z_y, z_theta')\n",
    "ztheta"
   ]
  },
  {
   "cell_type": "code",
   "execution_count": 5,
   "id": "e2b4cab0",
   "metadata": {},
   "outputs": [],
   "source": [
    "xi = sy.Matrix([theta, x, y])\n",
    "dxidt = sy.Matrix([omega, v*sy.cos(theta), v*sy.sin(theta)])"
   ]
  },
  {
   "cell_type": "markdown",
   "id": "f6f3185e",
   "metadata": {},
   "source": [
    "## Linearization"
   ]
  },
  {
   "cell_type": "code",
   "execution_count": 12,
   "id": "8b5c093d",
   "metadata": {},
   "outputs": [
    {
     "data": {
      "image/png": "[encoded data removed]",
      "text/latex": [
       "$\\displaystyle \\left[\\begin{matrix}0\\\\- v_{0} \\sin{\\left(\\theta_{0} \\right)}\\\\v_{0} \\cos{\\left(\\theta_{0} \\right)}\\end{matrix}\\right]$"
      ],
      "text/plain": [
       "⎡     0     ⎤\n",
       "⎢           ⎥\n",
       "⎢-v₀⋅sin(θ₀)⎥\n",
       "⎢           ⎥\n",
       "⎣v₀⋅cos(θ₀) ⎦"
      ]
     },
     "execution_count": 12,
     "metadata": {},
     "output_type": "execute_result"
    }
   ],
   "source": [
    "A1 = dxidt.diff(theta).subs([(theta, theta0), (v, v0)])\n",
    "A1"
   ]
  },
  {
   "cell_type": "code",
   "execution_count": 14,
   "id": "c2bb13ef",
   "metadata": {},
   "outputs": [
    {
     "data": {
      "image/png": "[encoded data removed]",
      "text/latex": [
       "$\\displaystyle \\left[\\begin{matrix}0 & 0 & 0\\\\- v_{0} \\sin{\\left(\\theta_{0} \\right)} & 0 & 0\\\\v_{0} \\cos{\\left(\\theta_{0} \\right)} & 0 & 0\\end{matrix}\\right]$"
      ],
      "text/plain": [
       "⎡     0       0  0⎤\n",
       "⎢                 ⎥\n",
       "⎢-v₀⋅sin(θ₀)  0  0⎥\n",
       "⎢                 ⎥\n",
       "⎣v₀⋅cos(θ₀)   0  0⎦"
      ]
     },
     "execution_count": 14,
     "metadata": {},
     "output_type": "execute_result"
    }
   ],
   "source": [
    "A = sy.zeros(3,3)\n",
    "A[:, 0] = A1\n",
    "A"
   ]
  },
  {
   "cell_type": "code",
   "execution_count": 15,
   "id": "db9cc1a0",
   "metadata": {},
   "outputs": [
    {
     "data": {
      "image/png": "[encoded data removed]",
      "text/latex": [
       "$\\displaystyle \\left[\\begin{matrix}0 & 0 & 0\\\\0 & 0 & 0\\\\0 & 0 & 0\\end{matrix}\\right]$"
      ],
      "text/plain": [
       "⎡0  0  0⎤\n",
       "⎢       ⎥\n",
       "⎢0  0  0⎥\n",
       "⎢       ⎥\n",
       "⎣0  0  0⎦"
      ]
     },
     "execution_count": 15,
     "metadata": {},
     "output_type": "execute_result"
    }
   ],
   "source": [
    "A*A"
   ]
  },
  {
   "cell_type": "markdown",
   "id": "0962a877",
   "metadata": {},
   "source": [
    "## Measurements"
   ]
  },
  {
   "cell_type": "code",
   "execution_count": 16,
   "id": "6dcc15fe",
   "metadata": {},
   "outputs": [
    {
     "data": {
      "image/png": "[encoded data removed]",
      "text/latex": [
       "$\\displaystyle \\sqrt{x^{2} + y^{2}}$"
      ],
      "text/plain": [
       "   _________\n",
       "  ╱  2    2 \n",
       "╲╱  x  + y  "
      ]
     },
     "execution_count": 16,
     "metadata": {},
     "output_type": "execute_result"
    }
   ],
   "source": [
    "phi = sy.atan2(y, x) - theta + 180\n",
    "d = sy.sqrt(x*x + y*y)\n",
    "d"
   ]
  },
  {
   "cell_type": "code",
   "execution_count": 22,
   "id": "7b668abc",
   "metadata": {},
   "outputs": [
    {
     "data": {
      "image/png": "[encoded data removed]",
      "text/latex": [
       "$\\displaystyle \\left[\\begin{matrix}-1 & - \\frac{y_{0}}{x_{0}^{2} + y_{0}^{2}} & \\frac{x_{0}}{x_{0}^{2} + y_{0}^{2}}\\end{matrix}\\right]$"
      ],
      "text/plain": [
       "⎡       -y₀         x₀   ⎤\n",
       "⎢-1  ─────────  ─────────⎥\n",
       "⎢      2     2    2     2⎥\n",
       "⎣    x₀  + y₀   x₀  + y₀ ⎦"
      ]
     },
     "execution_count": 22,
     "metadata": {},
     "output_type": "execute_result"
    }
   ],
   "source": [
    "C1 = sy.Matrix([[phi.diff(theta).subs([(x, x0), (y, y0)]), \n",
    "                 phi.diff(x).subs([(x, x0), (y, y0)]), \n",
    "                 phi.diff(y).subs([(x, x0), (y, y0)])]])  \n",
    "C1"
   ]
  },
  {
   "cell_type": "code",
   "execution_count": 23,
   "id": "f2d86f4b",
   "metadata": {},
   "outputs": [
    {
     "data": {
      "image/png": "[encoded data removed]",
      "text/latex": [
       "$\\displaystyle \\left[\\begin{matrix}0 & \\frac{x_{0}}{\\sqrt{x_{0}^{2} + y_{0}^{2}}} & \\frac{y_{0}}{\\sqrt{x_{0}^{2} + y_{0}^{2}}}\\end{matrix}\\right]$"
      ],
      "text/plain": [
       "⎡         x₀              y₀      ⎤\n",
       "⎢0  ──────────────  ──────────────⎥\n",
       "⎢      ___________     ___________⎥\n",
       "⎢     ╱   2     2     ╱   2     2 ⎥\n",
       "⎣   ╲╱  x₀  + y₀    ╲╱  x₀  + y₀  ⎦"
      ]
     },
     "execution_count": 23,
     "metadata": {},
     "output_type": "execute_result"
    }
   ],
   "source": [
    "C2 = sy.Matrix([[d.diff(theta).subs([(x, x0), (y, y0)]), \n",
    "                 d.diff(x).subs([(x, x0), (y, y0)]), \n",
    "                 d.diff(y).subs([(x, x0), (y, y0)])]])  \n",
    "C2"
   ]
  },
  {
   "cell_type": "code",
   "execution_count": 24,
   "id": "076db957",
   "metadata": {},
   "outputs": [
    {
     "data": {
      "image/png": "[encoded data removed]",
      "text/latex": [
       "$\\displaystyle \\left[\\begin{matrix}-1 & - \\frac{y_{0}}{x_{0}^{2} + y_{0}^{2}} & \\frac{x_{0}}{x_{0}^{2} + y_{0}^{2}}\\\\0 & \\frac{x_{0}}{\\sqrt{x_{0}^{2} + y_{0}^{2}}} & \\frac{y_{0}}{\\sqrt{x_{0}^{2} + y_{0}^{2}}}\\end{matrix}\\right]$"
      ],
      "text/plain": [
       "⎡         -y₀              x₀      ⎤\n",
       "⎢-1    ─────────       ─────────   ⎥\n",
       "⎢        2     2         2     2   ⎥\n",
       "⎢      x₀  + y₀        x₀  + y₀    ⎥\n",
       "⎢                                  ⎥\n",
       "⎢          x₀              y₀      ⎥\n",
       "⎢0   ──────────────  ──────────────⎥\n",
       "⎢       ___________     ___________⎥\n",
       "⎢      ╱   2     2     ╱   2     2 ⎥\n",
       "⎣    ╲╱  x₀  + y₀    ╲╱  x₀  + y₀  ⎦"
      ]
     },
     "execution_count": 24,
     "metadata": {},
     "output_type": "execute_result"
    }
   ],
   "source": [
    "C = sy.Matrix([C1, C2])\n",
    "C"
   ]
  },
  {
   "cell_type": "code",
   "execution_count": 26,
   "id": "6471acfc",
   "metadata": {},
   "outputs": [
    {
     "data": {
      "image/png": "[encoded data removed]",
      "text/latex": [
       "$\\displaystyle \\left[\\begin{matrix}-1 & - \\frac{y_{0}}{x_{0}^{2} + y_{0}^{2}} & \\frac{x_{0}}{x_{0}^{2} + y_{0}^{2}}\\\\0 & \\frac{x_{0}}{\\sqrt{x_{0}^{2} + y_{0}^{2}}} & \\frac{y_{0}}{\\sqrt{x_{0}^{2} + y_{0}^{2}}}\\\\\\frac{v_{0} x_{0} \\cos{\\left(\\theta_{0} \\right)}}{x_{0}^{2} + y_{0}^{2}} + \\frac{v_{0} y_{0} \\sin{\\left(\\theta_{0} \\right)}}{x_{0}^{2} + y_{0}^{2}} & 0 & 0\\\\- \\frac{v_{0} x_{0} \\sin{\\left(\\theta_{0} \\right)}}{\\sqrt{x_{0}^{2} + y_{0}^{2}}} + \\frac{v_{0} y_{0} \\cos{\\left(\\theta_{0} \\right)}}{\\sqrt{x_{0}^{2} + y_{0}^{2}}} & 0 & 0\\\\0 & 0 & 0\\\\0 & 0 & 0\\end{matrix}\\right]$"
      ],
      "text/plain": [
       "⎡                                        -y₀              x₀      ⎤\n",
       "⎢               -1                    ─────────       ─────────   ⎥\n",
       "⎢                                       2     2         2     2   ⎥\n",
       "⎢                                     x₀  + y₀        x₀  + y₀    ⎥\n",
       "⎢                                                                 ⎥\n",
       "⎢                                         x₀              y₀      ⎥\n",
       "⎢                0                  ──────────────  ──────────────⎥\n",
       "⎢                                      ___________     ___________⎥\n",
       "⎢                                     ╱   2     2     ╱   2     2 ⎥\n",
       "⎢                                   ╲╱  x₀  + y₀    ╲╱  x₀  + y₀  ⎥\n",
       "⎢                                                                 ⎥\n",
       "⎢  v₀⋅x₀⋅cos(θ₀)   v₀⋅y₀⋅sin(θ₀)                                  ⎥\n",
       "⎢  ───────────── + ─────────────          0               0       ⎥\n",
       "⎢      2     2         2     2                                    ⎥\n",
       "⎢    x₀  + y₀        x₀  + y₀                                     ⎥\n",
       "⎢                                                                 ⎥\n",
       "⎢  v₀⋅x₀⋅sin(θ₀)    v₀⋅y₀⋅cos(θ₀)                                 ⎥\n",
       "⎢- ────────────── + ──────────────        0               0       ⎥\n",
       "⎢     ___________      ___________                                ⎥\n",
       "⎢    ╱   2     2      ╱   2     2                                 ⎥\n",
       "⎢  ╲╱  x₀  + y₀     ╲╱  x₀  + y₀                                  ⎥\n",
       "⎢                                                                 ⎥\n",
       "⎢                0                        0               0       ⎥\n",
       "⎢                                                                 ⎥\n",
       "⎣                0                        0               0       ⎦"
      ]
     },
     "execution_count": 26,
     "metadata": {},
     "output_type": "execute_result"
    }
   ],
   "source": [
    "Obs = sy.Matrix([C, C*A, C*A*A])\n",
    "Obs"
   ]
  },
  {
   "cell_type": "code",
   "execution_count": 27,
   "id": "28175317",
   "metadata": {},
   "outputs": [
    {
     "data": {
      "image/png": "[encoded data removed]",
      "text/latex": [
       "$\\displaystyle 3$"
      ],
      "text/plain": [
       "3"
      ]
     },
     "execution_count": 27,
     "metadata": {},
     "output_type": "execute_result"
    }
   ],
   "source": [
    "Obs.rank()"
   ]
  },
  {
   "cell_type": "code",
   "execution_count": null,
   "id": "2ccf3d4a",
   "metadata": {},
   "outputs": [],
   "source": []
  }
 ],
 "metadata": {
  "kernelspec": {
   "display_name": "Python 3 (ipykernel)",
   "language": "python",
   "name": "python3"
  },
  "language_info": {
   "codemirror_mode": {
    "name": "ipython",
    "version": 3
   },
   "file_extension": ".py",
   "mimetype": "text/x-python",
   "name": "python",
   "nbconvert_exporter": "python",
   "pygments_lexer": "ipython3",
   "version": "3.8.11"
  }
 },
 "nbformat": 4,
 "nbformat_minor": 5
}
