{
 "cells": [
  {
   "cell_type": "markdown",
   "id": "9f8a82b9",
   "metadata": {},
   "source": [
    "# Apollo Lunar Module"
   ]
  },
  {
   "cell_type": "code",
   "execution_count": 6,
   "id": "9ea139a5",
   "metadata": {},
   "outputs": [],
   "source": [
    "import numpy as np\n",
    "import sympy as sy\n",
    "sy.init_printing()"
   ]
  },
  {
   "cell_type": "code",
   "execution_count": 2,
   "id": "33cc90cc",
   "metadata": {},
   "outputs": [
    {
     "name": "stdout",
     "output_type": "stream",
     "text": [
      "Collecting sympy\n",
      "  Downloading sympy-1.9-py3-none-any.whl (6.2 MB)\n",
      "\u001b[K     |████████████████████████████████| 6.2 MB 522 kB/s eta 0:00:01\n",
      "\u001b[?25hCollecting mpmath>=0.19\n",
      "  Downloading mpmath-1.2.1-py3-none-any.whl (532 kB)\n",
      "\u001b[K     |████████████████████████████████| 532 kB 222 kB/s eta 0:00:01\n",
      "\u001b[?25hInstalling collected packages: mpmath, sympy\n",
      "Successfully installed mpmath-1.2.1 sympy-1.9\n",
      "\u001b[33mWARNING: You are using pip version 21.2.4; however, version 21.3 is available.\n",
      "You should consider upgrading via the '/home/kjartan/.pyenv/versions/3.8.11/envs/tug/bin/python3.8 -m pip install --upgrade pip' command.\u001b[0m\n"
     ]
    }
   ],
   "source": [
    "!pip install sympy"
   ]
  },
  {
   "cell_type": "code",
   "execution_count": 7,
   "id": "e3294790",
   "metadata": {},
   "outputs": [
    {
     "data": {
      "image/png": "[encoded data removed]",
      "text/latex": [
       "$\\displaystyle k_{1}$"
      ],
      "text/plain": [
       "k₁"
      ]
     },
     "execution_count": 7,
     "metadata": {},
     "output_type": "execute_result"
    }
   ],
   "source": [
    "s = sy.symbols('s', real=False)\n",
    "k1, k2 = sy.symbols('k_1, k_2')\n",
    "k1"
   ]
  },
  {
   "cell_type": "code",
   "execution_count": 10,
   "id": "a1d3e3e9",
   "metadata": {},
   "outputs": [
    {
     "data": {
      "image/png": "[encoded data removed]",
      "text/latex": [
       "$\\displaystyle \\left[\\begin{matrix}0 & 0 & 0\\\\1 & 0 & 0\\\\0 & k_{2} & 0\\end{matrix}\\right]$"
      ],
      "text/plain": [
       "⎡0  0   0⎤\n",
       "⎢        ⎥\n",
       "⎢1  0   0⎥\n",
       "⎢        ⎥\n",
       "⎣0  k₂  0⎦"
      ]
     },
     "execution_count": 10,
     "metadata": {},
     "output_type": "execute_result"
    }
   ],
   "source": [
    "A = sy.Matrix([[0,0,0],[1,0,0],[0,k2,0]])\n",
    "B = sy.Matrix([[k1],[0],[0]])\n",
    "A"
   ]
  },
  {
   "cell_type": "code",
   "execution_count": 13,
   "id": "e8c4fed3",
   "metadata": {},
   "outputs": [
    {
     "data": {
      "image/png": "[encoded data removed]",
      "text/latex": [
       "$\\displaystyle \\left[\\begin{matrix}l_{1} & l_{2} & l_{3}\\end{matrix}\\right]$"
      ],
      "text/plain": [
       "[l₁  l₂  l₃]"
      ]
     },
     "execution_count": 13,
     "metadata": {},
     "output_type": "execute_result"
    }
   ],
   "source": [
    "l0, l1, l2, l3 = sy.symbols('l_0, l_1, l_2, l_3') \n",
    "L = sy.Matrix([[l1, l2, l3]])\n",
    "L"
   ]
  },
  {
   "cell_type": "code",
   "execution_count": 16,
   "id": "d49e1bbc",
   "metadata": {},
   "outputs": [
    {
     "data": {
      "image/png": "[encoded data removed]",
      "text/latex": [
       "$\\displaystyle \\left[\\begin{matrix}k_{1} l_{1} + s & k_{1} l_{2} & k_{1} l_{3}\\\\-1 & s & 0\\\\0 & - k_{2} & s\\end{matrix}\\right]$"
      ],
      "text/plain": [
       "⎡k₁⋅l₁ + s  k₁⋅l₂  k₁⋅l₃⎤\n",
       "⎢                       ⎥\n",
       "⎢   -1        s      0  ⎥\n",
       "⎢                       ⎥\n",
       "⎣    0       -k₂     s  ⎦"
      ]
     },
     "execution_count": 16,
     "metadata": {},
     "output_type": "execute_result"
    }
   ],
   "source": [
    "M = s*sy.eye(3) - (A-B*L)\n",
    "M"
   ]
  },
  {
   "cell_type": "code",
   "execution_count": 21,
   "id": "b9e55b56",
   "metadata": {},
   "outputs": [],
   "source": [
    "char_pol = sy.poly(sy.det(M), s)"
   ]
  },
  {
   "cell_type": "markdown",
   "id": "72c2d7ba",
   "metadata": {},
   "source": [
    "## Desired closed-loop poles"
   ]
  },
  {
   "cell_type": "code",
   "execution_count": 18,
   "id": "1c79d64b",
   "metadata": {},
   "outputs": [
    {
     "data": {
      "text/plain": [
       "(-1-1j)"
      ]
     },
     "execution_count": 18,
     "metadata": {},
     "output_type": "execute_result"
    }
   ],
   "source": [
    "p1 = -np.sqrt(2)\n",
    "p2 = complex(-1,1)\n",
    "p3 = complex(-1, -1)\n",
    "p3"
   ]
  },
  {
   "cell_type": "code",
   "execution_count": 19,
   "id": "75f3e8a2",
   "metadata": {},
   "outputs": [],
   "source": [
    "char_pol_des = sy.poly((s-p1)*(s-p2)*(s-p3), s)"
   ]
  },
  {
   "cell_type": "code",
   "execution_count": 20,
   "id": "ba7b519c",
   "metadata": {},
   "outputs": [
    {
     "data": {
      "image/png": "[encoded data removed]",
      "text/latex": [
       "$\\displaystyle \\operatorname{Poly}{\\left( 1.0 s^{3} + 3.41421356237309 s^{2} + \\left(4.82842712474619 + 2.22044604925031 \\cdot 10^{-16} i\\right) s + 2.82842712474619, s, domain=\\mathbb{C} \\right)}$"
      ],
      "text/plain": [
       "Poly(1.0*s**3 + 3.41421356237309*s**2 + (4.82842712474619 + 2.22044604925031e-16*I)*s + 2.82842712\n",
       "474619, s, domain='CC')"
      ]
     },
     "execution_count": 20,
     "metadata": {},
     "output_type": "execute_result"
    }
   ],
   "source": [
    "char_pol_des"
   ]
  },
  {
   "cell_type": "code",
   "execution_count": 24,
   "id": "0606f03a",
   "metadata": {},
   "outputs": [
    {
     "data": {
      "image/png": "[encoded data removed]",
      "text/latex": [
       "$\\displaystyle \\left[ 0, \\  k_{1} l_{1} - 3.41421356237309, \\  k_{1} l_{2} - 4.82842712474619 - 2.22044604925031 \\cdot 10^{-16} i, \\  k_{1} k_{2} l_{3} - 2.82842712474619\\right]$"
      ],
      "text/plain": [
       "[0, k₁⋅l₁ - 3.41421356237309, k₁⋅l₂ - 4.82842712474619 - 2.22044604925031e-16⋅ⅈ, k₁⋅k₂⋅l₃ - 2.8284\n",
       "2712474619]"
      ]
     },
     "execution_count": 24,
     "metadata": {},
     "output_type": "execute_result"
    }
   ],
   "source": [
    "eqns = [c_ - cd_ for c_, cd_ in zip(char_pol.coeffs(), char_pol_des.coeffs())]\n",
    "eqns"
   ]
  },
  {
   "cell_type": "code",
   "execution_count": 25,
   "id": "d33d7a42",
   "metadata": {},
   "outputs": [],
   "source": [
    "sol = sy.solve(eqns, [l1, l2, l3])"
   ]
  },
  {
   "cell_type": "code",
   "execution_count": 26,
   "id": "1cef0481",
   "metadata": {},
   "outputs": [
    {
     "data": {
      "image/png": "[encoded data removed]",
      "text/latex": [
       "$\\displaystyle \\left\\{ l_{1} : \\frac{3.41421356237309}{k_{1}}, \\  l_{2} : \\frac{4.82842712474619 + 2.22044604925031 \\cdot 10^{-16} i}{k_{1}}, \\  l_{3} : \\frac{2.82842712474619}{k_{1} k_{2}}\\right\\}$"
      ],
      "text/plain": [
       "⎧    3.41421356237309      4.82842712474619 + 2.22044604925031e-16⋅ⅈ      2.82842712474619⎫\n",
       "⎨l₁: ────────────────, l₂: ─────────────────────────────────────────, l₃: ────────────────⎬\n",
       "⎩           k₁                                 k₁                              k₁⋅k₂      ⎭"
      ]
     },
     "execution_count": 26,
     "metadata": {},
     "output_type": "execute_result"
    }
   ],
   "source": [
    "sol"
   ]
  },
  {
   "cell_type": "code",
   "execution_count": null,
   "id": "a41a8652",
   "metadata": {},
   "outputs": [],
   "source": []
  }
 ],
 "metadata": {
  "kernelspec": {
   "display_name": "Python 3 (ipykernel)",
   "language": "python",
   "name": "python3"
  },
  "language_info": {
   "codemirror_mode": {
    "name": "ipython",
    "version": 3
   },
   "file_extension": ".py",
   "mimetype": "text/x-python",
   "name": "python",
   "nbconvert_exporter": "python",
   "pygments_lexer": "ipython3",
   "version": "3.8.11"
  }
 },
 "nbformat": 4,
 "nbformat_minor": 5
}
