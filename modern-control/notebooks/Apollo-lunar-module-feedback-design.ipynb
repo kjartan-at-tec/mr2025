{
 "cells": [
  {
   "cell_type": "markdown",
   "id": "f22546c8",
   "metadata": {},
   "source": [
    "# Apollo Lunar Module"
   ]
  },
  {
   "cell_type": "code",
   "execution_count": 6,
   "id": "21f6ee1f",
   "metadata": {},
   "outputs": [],
   "source": [
    "import numpy as np\n",
    "import sympy as sy\n",
    "sy.init_printing()"
   ]
  },
  {
   "cell_type": "code",
   "execution_count": 2,
   "id": "aed5f293",
   "metadata": {},
   "outputs": [
    {
     "name": "stdout",
     "output_type": "stream",
     "text": [
      "Collecting sympy\n",
      "  Downloading sympy-1.9-py3-none-any.whl (6.2 MB)\n",
      "\u001b[K     |████████████████████████████████| 6.2 MB 522 kB/s eta 0:00:01\n",
      "\u001b[?25hCollecting mpmath>=0.19\n",
      "  Downloading mpmath-1.2.1-py3-none-any.whl (532 kB)\n",
      "\u001b[K     |████████████████████████████████| 532 kB 222 kB/s eta 0:00:01\n",
      "\u001b[?25hInstalling collected packages: mpmath, sympy\n",
      "Successfully installed mpmath-1.2.1 sympy-1.9\n",
      "\u001b[33mWARNING: You are using pip version 21.2.4; however, version 21.3 is available.\n",
      "You should consider upgrading via the '/home/kjartan/.pyenv/versions/3.8.11/envs/tug/bin/python3.8 -m pip install --upgrade pip' command.\u001b[0m\n"
     ]
    }
   ],
   "source": [
    "!pip install sympy"
   ]
  },
  {
   "cell_type": "code",
   "execution_count": 74,
   "id": "c6f0f7c2",
   "metadata": {},
   "outputs": [],
   "source": [
    "s = sy.symbols('s', real=False)\n",
    "J, g = sy.symbols('J, g', real=True, positive=True)\n"
   ]
  },
  {
   "cell_type": "code",
   "execution_count": 75,
   "id": "4ebaa22c",
   "metadata": {},
   "outputs": [
    {
     "data": {
      "image/png": "[encoded data removed]",
      "text/latex": [
       "$\\displaystyle \\left[\\begin{matrix}0 & 0 & 0\\\\1 & 0 & 0\\\\0 & g & 0\\end{matrix}\\right]$"
      ],
      "text/plain": [
       "⎡0  0  0⎤\n",
       "⎢       ⎥\n",
       "⎢1  0  0⎥\n",
       "⎢       ⎥\n",
       "⎣0  g  0⎦"
      ]
     },
     "execution_count": 75,
     "metadata": {},
     "output_type": "execute_result"
    }
   ],
   "source": [
    "A = sy.Matrix([[0,0,0],[1,0,0],[0,g,0]])\n",
    "B = sy.Matrix([[1/J],[0],[0]])\n",
    "C = sy.Matrix([[0,0,1]])\n",
    "A"
   ]
  },
  {
   "cell_type": "markdown",
   "id": "bd19627b",
   "metadata": {},
   "source": [
    "## Controllability"
   ]
  },
  {
   "cell_type": "code",
   "execution_count": 60,
   "id": "2b7a1bc5",
   "metadata": {},
   "outputs": [
    {
     "data": {
      "image/png": "[encoded data removed]",
      "text/latex": [
       "$\\displaystyle \\left[\\begin{matrix}\\frac{1}{J} & 0 & 0\\\\0 & \\frac{1}{J} & 0\\\\0 & 0 & \\frac{g}{J}\\end{matrix}\\right]$"
      ],
      "text/plain": [
       "⎡1      ⎤\n",
       "⎢─  0  0⎥\n",
       "⎢J      ⎥\n",
       "⎢       ⎥\n",
       "⎢   1   ⎥\n",
       "⎢0  ─  0⎥\n",
       "⎢   J   ⎥\n",
       "⎢       ⎥\n",
       "⎢      g⎥\n",
       "⎢0  0  ─⎥\n",
       "⎣      J⎦"
      ]
     },
     "execution_count": 60,
     "metadata": {},
     "output_type": "execute_result"
    }
   ],
   "source": [
    "Ctr = sy.Matrix([[B.T], [B.T*A.T], [B.T*A.T*A.T]]).T\n",
    "Ctr"
   ]
  },
  {
   "cell_type": "code",
   "execution_count": 45,
   "id": "0114ec03",
   "metadata": {},
   "outputs": [
    {
     "data": {
      "image/png": "[encoded data removed]",
      "text/latex": [
       "$\\displaystyle \\left[\\begin{matrix}l_{1} & l_{2} & l_{3}\\end{matrix}\\right]$"
      ],
      "text/plain": [
       "[l₁  l₂  l₃]"
      ]
     },
     "execution_count": 45,
     "metadata": {},
     "output_type": "execute_result"
    }
   ],
   "source": [
    "l0, l1, l2, l3 = sy.symbols('l_0, l_1, l_2, l_3') \n",
    "L = sy.Matrix([[l1, l2, l3]])\n",
    "L"
   ]
  },
  {
   "cell_type": "code",
   "execution_count": 46,
   "id": "fd55816e",
   "metadata": {},
   "outputs": [
    {
     "data": {
      "image/png": "[encoded data removed]",
      "text/latex": [
       "$\\displaystyle \\left[\\begin{matrix}s + \\frac{l_{1}}{J} & \\frac{l_{2}}{J} & \\frac{l_{3}}{J}\\\\-1 & s & 0\\\\0 & - g & s\\end{matrix}\\right]$"
      ],
      "text/plain": [
       "⎡    l₁  l₂  l₃⎤\n",
       "⎢s + ──  ──  ──⎥\n",
       "⎢    J   J   J ⎥\n",
       "⎢              ⎥\n",
       "⎢  -1    s   0 ⎥\n",
       "⎢              ⎥\n",
       "⎣  0     -g  s ⎦"
      ]
     },
     "execution_count": 46,
     "metadata": {},
     "output_type": "execute_result"
    }
   ],
   "source": [
    "M = s*sy.eye(3) - (A-B*L)\n",
    "M"
   ]
  },
  {
   "cell_type": "code",
   "execution_count": 47,
   "id": "2c4029c4",
   "metadata": {},
   "outputs": [],
   "source": [
    "char_pol = sy.poly(sy.det(M), s)"
   ]
  },
  {
   "cell_type": "markdown",
   "id": "1c800542",
   "metadata": {},
   "source": [
    "## Desired closed-loop poles"
   ]
  },
  {
   "cell_type": "code",
   "execution_count": 48,
   "id": "140be5cb",
   "metadata": {},
   "outputs": [
    {
     "data": {
      "image/png": "[encoded data removed]",
      "text/latex": [
       "$\\displaystyle \\frac{0.707106781186547 \\left(-1.0 - 1.0 i\\right)}{\\tau_{c}}$"
      ],
      "text/plain": [
       "0.707106781186547⋅(-1.0 - ⅈ)\n",
       "────────────────────────────\n",
       "            τ_c             "
      ]
     },
     "execution_count": 48,
     "metadata": {},
     "output_type": "execute_result"
    }
   ],
   "source": [
    "tauc = sy.symbols('tau_c')\n",
    "wc = 1/tauc\n",
    "p1 = -wc\n",
    "p2 = wc/np.sqrt(2)*complex(-1,1)\n",
    "p3 = wc/np.sqrt(2)*complex(-1, -1)\n",
    "p3"
   ]
  },
  {
   "cell_type": "code",
   "execution_count": 49,
   "id": "15e151b4",
   "metadata": {},
   "outputs": [],
   "source": [
    "char_pol_des = sy.poly((s-p1)*(s-p2)*(s-p3), s)"
   ]
  },
  {
   "cell_type": "code",
   "execution_count": 50,
   "id": "dc32d6b5",
   "metadata": {},
   "outputs": [
    {
     "data": {
      "image/png": "[encoded data removed]",
      "text/latex": [
       "$\\displaystyle \\operatorname{Poly}{\\left( 1.0 s^{3} + \\frac{2.41421356237309}{\\tau_{c}} s^{2} + \\frac{2.41421356237309}{\\tau_{c}^{2}} s + \\frac{1.0}{\\tau_{c}^{3}}, s, domain=\\mathbb{C}\\left(\\tau_{c}\\right) \\right)}$"
      ],
      "text/plain": [
       "Poly(1.0*s**3 + 2.41421356237309/tau_c*s**2 + 2.41421356237309/tau_c**2*s + 1.0/tau_c**3, s, domai\n",
       "n='CC(tau_c)')"
      ]
     },
     "execution_count": 50,
     "metadata": {},
     "output_type": "execute_result"
    }
   ],
   "source": [
    "char_pol_des"
   ]
  },
  {
   "cell_type": "code",
   "execution_count": 51,
   "id": "55a8ba6d",
   "metadata": {},
   "outputs": [
    {
     "data": {
      "image/png": "[encoded data removed]",
      "text/latex": [
       "$\\displaystyle \\left[ 0, \\  - \\frac{2.41421356237309}{\\tau_{c}} + \\frac{l_{1}}{J}, \\  - \\frac{2.41421356237309}{\\tau_{c}^{2}} + \\frac{l_{2}}{J}, \\  - \\frac{1.0}{\\tau_{c}^{3}} + \\frac{g l_{3}}{J}\\right]$"
      ],
      "text/plain": [
       "⎡     2.41421356237309   l₁    2.41421356237309   l₂    1.0    g⋅l₃⎤\n",
       "⎢0, - ──────────────── + ──, - ──────────────── + ──, - ──── + ────⎥\n",
       "⎢           τ_c          J              2         J        3    J  ⎥\n",
       "⎣                                    τ_c                τ_c        ⎦"
      ]
     },
     "execution_count": 51,
     "metadata": {},
     "output_type": "execute_result"
    }
   ],
   "source": [
    "eqns = [c_ - cd_ for c_, cd_ in zip(char_pol.coeffs(), char_pol_des.coeffs())]\n",
    "eqns"
   ]
  },
  {
   "cell_type": "code",
   "execution_count": 52,
   "id": "a340b0b0",
   "metadata": {},
   "outputs": [],
   "source": [
    "sol = sy.solve(eqns, [l1, l2, l3])"
   ]
  },
  {
   "cell_type": "code",
   "execution_count": 53,
   "id": "882ae4f2",
   "metadata": {},
   "outputs": [
    {
     "data": {
      "image/png": "[encoded data removed]",
      "text/latex": [
       "$\\displaystyle \\left\\{ l_{1} : \\frac{2.41421356237309 J}{\\tau_{c}}, \\  l_{2} : \\frac{2.41421356237309 J}{\\tau_{c}^{2}}, \\  l_{3} : \\frac{J}{g \\tau_{c}^{3}}\\right\\}$"
      ],
      "text/plain": [
       "⎧    2.41421356237309⋅J      2.41421356237309⋅J        J   ⎫\n",
       "⎪l₁: ──────────────────, l₂: ──────────────────, l₃: ──────⎪\n",
       "⎨           τ_c                        2                  3⎬\n",
       "⎪                                   τ_c              g⋅τ_c ⎪\n",
       "⎩                                                          ⎭"
      ]
     },
     "execution_count": 53,
     "metadata": {},
     "output_type": "execute_result"
    }
   ],
   "source": [
    "sol"
   ]
  },
  {
   "cell_type": "code",
   "execution_count": 54,
   "id": "f8599a23",
   "metadata": {},
   "outputs": [
    {
     "data": {
      "image/png": "[encoded data removed]",
      "text/latex": [
       "$\\displaystyle 2.82842712474619$"
      ],
      "text/plain": [
       "2.8284271247461903"
      ]
     },
     "execution_count": 54,
     "metadata": {},
     "output_type": "execute_result"
    }
   ],
   "source": [
    "2*np.sqrt(2)"
   ]
  },
  {
   "cell_type": "markdown",
   "id": "7018fc68",
   "metadata": {},
   "source": [
    "## The forward gain $l_0$\n",
    "\n",
    "From transfer function\n",
    "$$ G_c(s) = l_0 \\frac{\\frac{g}{J}}{s^3 + \\frac{1+\\sqrt{2}}{\\tau_c}s^2 + \\frac{1+\\sqrt{2}}{\\tau_c^2}s + \\frac{1}{\\tau_c^3}}$$\n",
    "and \n",
    "$$ G_c(0) = 1 $$"
   ]
  },
  {
   "cell_type": "code",
   "execution_count": 57,
   "id": "031ec418",
   "metadata": {},
   "outputs": [
    {
     "data": {
      "image/png": "[encoded data removed]",
      "text/latex": [
       "$\\displaystyle \\frac{J}{g \\tau_{c}^{3}}$"
      ],
      "text/plain": [
       "  J   \n",
       "──────\n",
       "     3\n",
       "g⋅τ_c "
      ]
     },
     "execution_count": 57,
     "metadata": {},
     "output_type": "execute_result"
    }
   ],
   "source": [
    "l0 = J/g/tauc**3\n",
    "l0"
   ]
  },
  {
   "cell_type": "markdown",
   "id": "acafc45f",
   "metadata": {},
   "source": [
    "From steady-state solution\n",
    "$$ 0 = (A-BL)x + l_0Br $$\n",
    "$$ x = -l_0(A-BL)^{-1}Br $$"
   ]
  },
  {
   "cell_type": "code",
   "execution_count": 63,
   "id": "9dc0677c",
   "metadata": {},
   "outputs": [
    {
     "data": {
      "image/png": "[encoded data removed]",
      "text/latex": [
       "$\\displaystyle \\left[\\begin{matrix}0\\\\0\\\\\\frac{g \\tau_{c}^{3}}{J}\\end{matrix}\\right]$"
      ],
      "text/plain": [
       "⎡  0   ⎤\n",
       "⎢      ⎥\n",
       "⎢  0   ⎥\n",
       "⎢      ⎥\n",
       "⎢     3⎥\n",
       "⎢g⋅τ_c ⎥\n",
       "⎢──────⎥\n",
       "⎣  J   ⎦"
      ]
     },
     "execution_count": 63,
     "metadata": {},
     "output_type": "execute_result"
    }
   ],
   "source": [
    "dcgainx = -(A-B*L).inv()*B\n",
    "dcgainx = dcgainx.subs([(l3, sol[l3])])\n",
    "dcgainx"
   ]
  },
  {
   "cell_type": "code",
   "execution_count": 66,
   "id": "8ed1366d",
   "metadata": {},
   "outputs": [
    {
     "data": {
      "image/png": "[encoded data removed]",
      "text/latex": [
       "$\\displaystyle \\frac{J}{g \\tau_{c}^{3}}$"
      ],
      "text/plain": [
       "  J   \n",
       "──────\n",
       "     3\n",
       "g⋅τ_c "
      ]
     },
     "execution_count": 66,
     "metadata": {},
     "output_type": "execute_result"
    }
   ],
   "source": [
    "dcgainy = C*dcgainx\n",
    "l0 = 1/dcgainy[0]\n",
    "l0"
   ]
  },
  {
   "cell_type": "markdown",
   "id": "24a1212e",
   "metadata": {},
   "source": [
    "## Observer design\n"
   ]
  },
  {
   "cell_type": "code",
   "execution_count": 68,
   "id": "1c44bd47",
   "metadata": {},
   "outputs": [
    {
     "data": {
      "image/png": "[encoded data removed]",
      "text/latex": [
       "$\\displaystyle \\left[\\begin{matrix}k_{1}\\\\k_{2}\\\\k_{3}\\end{matrix}\\right]$"
      ],
      "text/plain": [
       "⎡k₁⎤\n",
       "⎢  ⎥\n",
       "⎢k₂⎥\n",
       "⎢  ⎥\n",
       "⎣k₃⎦"
      ]
     },
     "execution_count": 68,
     "metadata": {},
     "output_type": "execute_result"
    }
   ],
   "source": [
    "k1,k2,k3 = sy.symbols('k_1, k_2, k_3')\n",
    "K = sy.Matrix([k1,k2,k3])\n",
    "K"
   ]
  },
  {
   "cell_type": "code",
   "execution_count": 76,
   "id": "70d382a0",
   "metadata": {},
   "outputs": [
    {
     "data": {
      "image/png": "[encoded data removed]",
      "text/latex": [
       "$\\displaystyle \\operatorname{Poly}{\\left( s^{3} + k_{3} s^{2} + g k_{2} s + g k_{1}, s, domain=\\mathbb{Z}\\left[g, k_{1}, k_{2}, k_{3}\\right] \\right)}$"
      ],
      "text/plain": [
       "Poly(s**3 + k_3*s**2 + g*k_2*s + g*k_1, s, domain='ZZ[g,k_1,k_2,k_3]')"
      ]
     },
     "execution_count": 76,
     "metadata": {},
     "output_type": "execute_result"
    }
   ],
   "source": [
    "o_char_pol = sy.poly(sy.det(s*sy.eye(3) - (A - K*C) ), s)\n",
    "o_char_pol"
   ]
  },
  {
   "cell_type": "markdown",
   "id": "6398f5b1",
   "metadata": {},
   "source": [
    "### Desired observer poles\n",
    "Separation of n, hence the poles are at n times the distance from the origin of the closed-loop poles"
   ]
  },
  {
   "cell_type": "code",
   "execution_count": 81,
   "id": "8e0c08ab",
   "metadata": {},
   "outputs": [
    {
     "data": {
      "image/png": "[encoded data removed]",
      "text/latex": [
       "$\\displaystyle \\frac{0.707106781186547 n \\left(-1.0 - 1.0 i\\right)}{\\tau_{c}}$"
      ],
      "text/plain": [
       "0.707106781186547⋅n⋅(-1.0 - ⅈ)\n",
       "──────────────────────────────\n",
       "             τ_c              "
      ]
     },
     "execution_count": 81,
     "metadata": {},
     "output_type": "execute_result"
    }
   ],
   "source": [
    "sep = sy.symbols('n', real=True, positive=True)\n",
    "wc_o = sep*wc\n",
    "p1_o = -wc_o\n",
    "p2_o = wc_o/np.sqrt(2)*complex(-1,1)\n",
    "p3_o = wc_o/np.sqrt(2)*complex(-1, -1)\n",
    "p3_o"
   ]
  },
  {
   "cell_type": "code",
   "execution_count": 82,
   "id": "1d406632",
   "metadata": {},
   "outputs": [
    {
     "data": {
      "image/png": "[encoded data removed]",
      "text/latex": [
       "$\\displaystyle \\operatorname{Poly}{\\left( 1.0 s^{3} + \\frac{2.41421356237309 n}{\\tau_{c}} s^{2} + \\frac{2.41421356237309 n^{2}}{\\tau_{c}^{2}} s + \\frac{1.0 n^{3}}{\\tau_{c}^{3}}, s, domain=\\mathbb{C}\\left(n, \\tau_{c}\\right) \\right)}$"
      ],
      "text/plain": [
       "Poly(1.0*s**3 + 2.41421356237309*n/tau_c*s**2 + 2.41421356237309*n**2/tau_c**2*s + 1.0*n**3/tau_c*\n",
       "*3, s, domain='CC(n,tau_c)')"
      ]
     },
     "execution_count": 82,
     "metadata": {},
     "output_type": "execute_result"
    }
   ],
   "source": [
    "o_char_pol_des = sy.poly((s-p1_o)*(s-p2_o)*(s-p3_o), s)\n",
    "o_char_pol_des"
   ]
  },
  {
   "cell_type": "code",
   "execution_count": 83,
   "id": "2cad4c84",
   "metadata": {},
   "outputs": [
    {
     "data": {
      "image/png": "[encoded data removed]",
      "text/latex": [
       "$\\displaystyle \\left[ 0, \\  k_{3} - \\frac{2.41421356237309 n}{\\tau_{c}}, \\  g k_{2} - \\frac{2.41421356237309 n^{2}}{\\tau_{c}^{2}}, \\  g k_{1} - \\frac{1.0 n^{3}}{\\tau_{c}^{3}}\\right]$"
      ],
      "text/plain": [
       "⎡                                                     2              3⎤\n",
       "⎢        2.41421356237309⋅n         2.41421356237309⋅n          1.0⋅n ⎥\n",
       "⎢0, k₃ - ──────────────────, g⋅k₂ - ───────────────────, g⋅k₁ - ──────⎥\n",
       "⎢               τ_c                            2                    3 ⎥\n",
       "⎣                                           τ_c                  τ_c  ⎦"
      ]
     },
     "execution_count": 83,
     "metadata": {},
     "output_type": "execute_result"
    }
   ],
   "source": [
    "eqns = [c_ - cd_ for c_, cd_ in zip(o_char_pol.coeffs(), o_char_pol_des.coeffs())]\n",
    "eqns"
   ]
  },
  {
   "cell_type": "code",
   "execution_count": 84,
   "id": "d4a66b9b",
   "metadata": {},
   "outputs": [
    {
     "data": {
      "image/png": "[encoded data removed]",
      "text/latex": [
       "$\\displaystyle \\left\\{ k_{1} : \\frac{n^{3}}{g \\tau_{c}^{3}}, \\  k_{2} : \\frac{2.41421356237309 n^{2}}{g \\tau_{c}^{2}}, \\  k_{3} : \\frac{2.41421356237309 n}{\\tau_{c}}\\right\\}$"
      ],
      "text/plain": [
       "⎧       3                          2                        ⎫\n",
       "⎪      n         2.41421356237309⋅n       2.41421356237309⋅n⎪\n",
       "⎨k₁: ──────, k₂: ───────────────────, k₃: ──────────────────⎬\n",
       "⎪         3                  2                   τ_c        ⎪\n",
       "⎩    g⋅τ_c              g⋅τ_c                               ⎭"
      ]
     },
     "execution_count": 84,
     "metadata": {},
     "output_type": "execute_result"
    }
   ],
   "source": [
    "sol_o = sy.solve(eqns, [k1, k2, k3])\n",
    "sol_o"
   ]
  },
  {
   "cell_type": "code",
   "execution_count": 85,
   "id": "2142d3fe",
   "metadata": {},
   "outputs": [
    {
     "data": {
      "image/png": "[encoded data removed]",
      "text/latex": [
       "$\\displaystyle \\left[\\begin{matrix}0 & 0 & 1\\end{matrix}\\right]$"
      ],
      "text/plain": [
       "[0  0  1]"
      ]
     },
     "execution_count": 85,
     "metadata": {},
     "output_type": "execute_result"
    }
   ],
   "source": [
    "C"
   ]
  },
  {
   "cell_type": "code",
   "execution_count": 86,
   "id": "bee946a9",
   "metadata": {},
   "outputs": [
    {
     "data": {
      "image/png": "[encoded data removed]",
      "text/latex": [
       "$\\displaystyle \\left[\\begin{matrix}0 & 0 & 0\\\\1 & 0 & 0\\\\0 & g & 0\\end{matrix}\\right]$"
      ],
      "text/plain": [
       "⎡0  0  0⎤\n",
       "⎢       ⎥\n",
       "⎢1  0  0⎥\n",
       "⎢       ⎥\n",
       "⎣0  g  0⎦"
      ]
     },
     "execution_count": 86,
     "metadata": {},
     "output_type": "execute_result"
    }
   ],
   "source": [
    "A"
   ]
  },
  {
   "cell_type": "code",
   "execution_count": 87,
   "id": "ab3e4c5e",
   "metadata": {},
   "outputs": [
    {
     "data": {
      "image/png": "[encoded data removed]",
      "text/latex": [
       "$\\displaystyle \\left[\\begin{matrix}\\frac{1}{J}\\\\0\\\\0\\end{matrix}\\right]$"
      ],
      "text/plain": [
       "⎡1⎤\n",
       "⎢─⎥\n",
       "⎢J⎥\n",
       "⎢ ⎥\n",
       "⎢0⎥\n",
       "⎢ ⎥\n",
       "⎣0⎦"
      ]
     },
     "execution_count": 87,
     "metadata": {},
     "output_type": "execute_result"
    }
   ],
   "source": [
    "B"
   ]
  },
  {
   "cell_type": "code",
   "execution_count": null,
   "id": "eb1bb2a3",
   "metadata": {},
   "outputs": [],
   "source": []
  }
 ],
 "metadata": {
  "kernelspec": {
   "display_name": "Python 3 (ipykernel)",
   "language": "python",
   "name": "python3"
  },
  "language_info": {
   "codemirror_mode": {
    "name": "ipython",
    "version": 3
   },
   "file_extension": ".py",
   "mimetype": "text/x-python",
   "name": "python",
   "nbconvert_exporter": "python",
   "pygments_lexer": "ipython3",
   "version": "3.8.11"
  }
 },
 "nbformat": 4,
 "nbformat_minor": 5
}
